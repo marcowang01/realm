{
 "cells": [
  {
   "cell_type": "code",
   "execution_count": 1,
   "metadata": {},
   "outputs": [],
   "source": [
    "from selenium import webdriver\n",
    "from selenium.webdriver.firefox.options import Options as FirefoxOptions\n",
    "from bs4 import BeautifulSoup\n",
    "\n",
    "import re\n",
    "import sys\n",
    "import urllib.request"
   ]
  },
  {
   "cell_type": "code",
   "execution_count": 2,
   "metadata": {},
   "outputs": [
    {
     "name": "stderr",
     "output_type": "stream",
     "text": [
      "C:\\Users\\marco\\AppData\\Local\\Temp\\ipykernel_22200\\3901147259.py:4: DeprecationWarning: executable_path has been deprecated, please pass in a Service object\n",
      "  browser = webdriver.Firefox(executable_path=\"C:\\\\Users\\\\marco\\\\geckodriver.exe\", options=options)\n"
     ]
    }
   ],
   "source": [
    "options = FirefoxOptions()\n",
    "options.add_argument(\"--headless\")\n",
    "\n",
    "browser = webdriver.Firefox(executable_path=\"C:\\\\Users\\\\marco\\\\geckodriver.exe\", options=options)"
   ]
  },
  {
   "cell_type": "code",
   "execution_count": 66,
   "metadata": {},
   "outputs": [
    {
     "name": "stdout",
     "output_type": "stream",
     "text": [
      "sample: ['https://ar5iv.labs.arxiv.org/html/2305.10973v1', 'https://ar5iv.labs.arxiv.org/html/2305.11169', 'https://ar5iv.labs.arxiv.org/html/2305.09617', 'https://ar5iv.labs.arxiv.org/html/2305.07185', 'https://ar5iv.labs.arxiv.org/html/2305.09645']\n",
      "total: 182\n"
     ]
    }
   ],
   "source": [
    "def clean_url(link):\n",
    "    # extract arxiv id from url\n",
    "    arxiv_id = link.split('/')[-1]\n",
    "    # remove .pdf from arxiv id if it exists\n",
    "    arxiv_id = arxiv_id.replace('.pdf', '')\n",
    "    # construct new ar5iv url \n",
    "    url = 'https://ar5iv.labs.arxiv.org/html/' + arxiv_id\n",
    "    return url\n",
    "\n",
    "def get_links(html):\n",
    "    links = []\n",
    "    # find all links that contain 'arxiv' in the url and end in .pdf or numbers\n",
    "    for match in re.finditer(r'href=[\\'\"]?([^\\'\" >]+)', html):\n",
    "        url = match.group(1)\n",
    "        if 'arxiv' in url and ('.pdf' in url or url[-3].isdigit()):\n",
    "            links.append(clean_url(url))\n",
    "    return links\n",
    "\n",
    "\n",
    "base_url = [\n",
    "    'https://interactiveaudiolab.github.io/teaching/generative_deep_models.html', \n",
    "    'https://github.com/dair-ai/ML-Papers-of-the-Week'\n",
    "]\n",
    "links = []\n",
    "# get list of urls ending in .pdf and containing 'arxiv' in the url\n",
    "for url in base_url:\n",
    "    browser.get(url)\n",
    "    html = browser.page_source\n",
    "    links += get_links(html)\n",
    "\n",
    "\n",
    "print(f'sample: {links[0:5]}')\n",
    "print(f'total: {len(links)}')"
   ]
  },
  {
   "cell_type": "code",
   "execution_count": 2,
   "metadata": {},
   "outputs": [
    {
     "name": "stderr",
     "output_type": "stream",
     "text": [
      "C:\\Users\\marco\\AppData\\Local\\Temp\\ipykernel_47740\\2675970555.py:1: DeprecationWarning: executable_path has been deprecated, please pass in a Service object\n",
      "  browser = webdriver.Firefox(executable_path=\"C:\\\\Users\\\\marco\\\\geckodriver.exe\")\n"
     ]
    }
   ],
   "source": [
    "browser = webdriver.Firefox(executable_path=\"C:\\\\Users\\\\marco\\\\geckodriver.exe\")\n",
    "url = \"https://ar5iv.labs.arxiv.org/html/2112.10741\"\n",
    "browser.get(url)\n"
   ]
  },
  {
   "cell_type": "code",
   "execution_count": 3,
   "metadata": {},
   "outputs": [],
   "source": [
    "html = browser.page_source\n",
    "soup = BeautifulSoup(html, 'html.parser')"
   ]
  },
  {
   "cell_type": "code",
   "execution_count": 4,
   "metadata": {},
   "outputs": [
    {
     "name": "stdout",
     "output_type": "stream",
     "text": [
      "GLIDE: Towards Photorealistic Image Generation and Editing with Text-Guided Diffusion Models\n"
     ]
    }
   ],
   "source": [
    "# Get the title\n",
    "title = soup.find('h1', class_='ltx_title ltx_title_document').text.strip()\n",
    "print(title)"
   ]
  },
  {
   "cell_type": "code",
   "execution_count": 5,
   "metadata": {},
   "outputs": [
    {
     "name": "stdout",
     "output_type": "stream",
     "text": [
      "['Alex Nichol', 'Prafulla Dhariwal', 'Aditya Ramesh', 'Pranav Shyam', 'Pamela Mishkin', 'Bob McGrew', 'Ilya Sutskever', 'Mark Chen']\n"
     ]
    }
   ],
   "source": [
    "# Get the authors\n",
    "authors = soup.find('div', class_='ltx_authors').find_all('span', class_='ltx_personname')\n",
    "authors = [author.text.strip() for author in authors]\n",
    "print(authors)"
   ]
  },
  {
   "cell_type": "code",
   "execution_count": 8,
   "metadata": {},
   "outputs": [
    {
     "name": "stdout",
     "output_type": "stream",
     "text": [
      "Diffusion models have recently been shown to generate high-quality synthetic images, especially when paired with a guidance technique to trade off div\n"
     ]
    }
   ],
   "source": [
    "# Get the abstract\n",
    "abstract = soup.find('div', class_='ltx_abstract').find('p').text.strip()\n",
    "print(abstract[0:150])"
   ]
  },
  {
   "cell_type": "code",
   "execution_count": 46,
   "metadata": {},
   "outputs": [],
   "source": [
    "# Get each section and store it in a dictionary\n",
    "section_names = []\n",
    "section_texts = []\n",
    "sections = soup.find_all('section', class_='ltx_section')\n",
    "for section in sections:\n",
    "    section_title = section.find('h2', class_='ltx_title ltx_title_section').text.strip()\n",
    "    if section_title == 'References':\n",
    "        continue\n",
    "    section_names.append(section_title)\n",
    "    section_text = ''\n",
    "    # iterate all children recursively and cocatenate all the text in all the children and subchildren\n",
    "    # skip if the child is a figure\n",
    "    # if the tag is math, then use text in alttext\n",
    "    valid_tags = ['p', 'math', 'cite','h3']\n",
    "    valid_sections = ['div', 'section']\n",
    "    for child in section.children:\n",
    "        if child.name in valid_sections:\n",
    "            for descendent in child.descendants:\n",
    "                if descendent.name in valid_tags:\n",
    "                    if descendent.name == 'math':\n",
    "                        section_text += descendent['alttext']\n",
    "                    if descendent.name == 'h3':\n",
    "                        section_text += ' ' + descendent.text.strip() + '. '\n",
    "                    else:\n",
    "                        section_text += descendent.text.strip()\n",
    "        \n",
    "\n",
    "    section_texts.append(section_text)"
   ]
  },
  {
   "cell_type": "code",
   "execution_count": 47,
   "metadata": {},
   "outputs": [],
   "source": [
    "# write the first section text to a file\n",
    "with open('sample_section.txt', 'w', encoding='utf-8') as f:\n",
    "    f.write(section_texts[1])"
   ]
  },
  {
   "cell_type": "code",
   "execution_count": null,
   "metadata": {},
   "outputs": [],
   "source": [
    "# write everything into an dictionary\n",
    "paper = {\n",
    "    'title': title,\n",
    "    'authors': authors,\n",
    "    'abstract': abstract,\n",
    "    'sections': dict(zip(section_names, section_texts))\n",
    "}\n"
   ]
  },
  {
   "cell_type": "code",
   "execution_count": 7,
   "metadata": {},
   "outputs": [
    {
     "ename": "TypeError",
     "evalue": "argument of type 'NoneType' is not iterable",
     "output_type": "error",
     "traceback": [
      "\u001b[1;31m---------------------------------------------------------------------------\u001b[0m",
      "\u001b[1;31mTypeError\u001b[0m                                 Traceback (most recent call last)",
      "Cell \u001b[1;32mIn[7], line 4\u001b[0m\n\u001b[0;32m      2\u001b[0m \u001b[39mfrom\u001b[39;00m \u001b[39mpaper\u001b[39;00m \u001b[39mimport\u001b[39;00m Paper\n\u001b[0;32m      3\u001b[0m paper \u001b[39m=\u001b[39m Paper(url, browser)\n\u001b[1;32m----> 4\u001b[0m paper\u001b[39m.\u001b[39;49mparse_pdf()\n",
      "File \u001b[1;32mc:\\Users\\marco\\_01_docs\\Coding\\PyCharm\\modal\\instructDB\\data\\paper.py:19\u001b[0m, in \u001b[0;36mPaper.parse_pdf\u001b[1;34m(self)\u001b[0m\n\u001b[0;32m     16\u001b[0m soup \u001b[39m=\u001b[39m BeautifulSoup(html, \u001b[39m'\u001b[39m\u001b[39mhtml.parser\u001b[39m\u001b[39m'\u001b[39m)\n\u001b[0;32m     18\u001b[0m \u001b[39m# Get the title\u001b[39;00m\n\u001b[1;32m---> 19\u001b[0m title \u001b[39m=\u001b[39m soup\u001b[39m.\u001b[39;49mfind(\u001b[39m'\u001b[39;49m\u001b[39mh1\u001b[39;49m\u001b[39m'\u001b[39;49m, class_\u001b[39m=\u001b[39;49m\u001b[39mlambda\u001b[39;49;00m x: \u001b[39m'\u001b[39;49m\u001b[39mltx_title\u001b[39;49m\u001b[39m'\u001b[39;49m \u001b[39min\u001b[39;49;00m x \u001b[39mand\u001b[39;49;00m \u001b[39m'\u001b[39;49m\u001b[39mltx_title_document\u001b[39;49m\u001b[39m'\u001b[39;49m \u001b[39min\u001b[39;49;00m x)\n\u001b[0;32m     20\u001b[0m \u001b[39mif\u001b[39;00m title \u001b[39mis\u001b[39;00m \u001b[39mNone\u001b[39;00m:\n\u001b[0;32m     21\u001b[0m     \u001b[39mraise\u001b[39;00m \u001b[39mValueError\u001b[39;00m(\u001b[39m\"\u001b[39m\u001b[39mTitle element not found\u001b[39m\u001b[39m\"\u001b[39m)\n",
      "File \u001b[1;32mc:\\Users\\marco\\_01_docs\\Coding\\PyCharm\\modal\\instructDB\\venv\\lib\\site-packages\\bs4\\element.py:2001\u001b[0m, in \u001b[0;36mTag.find\u001b[1;34m(self, name, attrs, recursive, string, **kwargs)\u001b[0m\n\u001b[0;32m   1984\u001b[0m \u001b[39m\u001b[39m\u001b[39m\"\"\"Look in the children of this PageElement and find the first\u001b[39;00m\n\u001b[0;32m   1985\u001b[0m \u001b[39mPageElement that matches the given criteria.\u001b[39;00m\n\u001b[0;32m   1986\u001b[0m \n\u001b[1;32m   (...)\u001b[0m\n\u001b[0;32m   1998\u001b[0m \u001b[39m:rtype: bs4.element.Tag | bs4.element.NavigableString\u001b[39;00m\n\u001b[0;32m   1999\u001b[0m \u001b[39m\"\"\"\u001b[39;00m\n\u001b[0;32m   2000\u001b[0m r \u001b[39m=\u001b[39m \u001b[39mNone\u001b[39;00m\n\u001b[1;32m-> 2001\u001b[0m l \u001b[39m=\u001b[39m \u001b[39mself\u001b[39m\u001b[39m.\u001b[39mfind_all(name, attrs, recursive, string, \u001b[39m1\u001b[39m, _stacklevel\u001b[39m=\u001b[39m\u001b[39m3\u001b[39m,\n\u001b[0;32m   2002\u001b[0m                   \u001b[39m*\u001b[39m\u001b[39m*\u001b[39mkwargs)\n\u001b[0;32m   2003\u001b[0m \u001b[39mif\u001b[39;00m l:\n\u001b[0;32m   2004\u001b[0m     r \u001b[39m=\u001b[39m l[\u001b[39m0\u001b[39m]\n",
      "File \u001b[1;32mc:\\Users\\marco\\_01_docs\\Coding\\PyCharm\\modal\\instructDB\\venv\\lib\\site-packages\\bs4\\element.py:2030\u001b[0m, in \u001b[0;36mTag.find_all\u001b[1;34m(self, name, attrs, recursive, string, limit, **kwargs)\u001b[0m\n\u001b[0;32m   2028\u001b[0m     generator \u001b[39m=\u001b[39m \u001b[39mself\u001b[39m\u001b[39m.\u001b[39mchildren\n\u001b[0;32m   2029\u001b[0m _stacklevel \u001b[39m=\u001b[39m kwargs\u001b[39m.\u001b[39mpop(\u001b[39m'\u001b[39m\u001b[39m_stacklevel\u001b[39m\u001b[39m'\u001b[39m, \u001b[39m2\u001b[39m)\n\u001b[1;32m-> 2030\u001b[0m \u001b[39mreturn\u001b[39;00m \u001b[39mself\u001b[39m\u001b[39m.\u001b[39m_find_all(name, attrs, string, limit, generator,\n\u001b[0;32m   2031\u001b[0m                       _stacklevel\u001b[39m=\u001b[39m_stacklevel\u001b[39m+\u001b[39m\u001b[39m1\u001b[39m, \u001b[39m*\u001b[39m\u001b[39m*\u001b[39mkwargs)\n",
      "File \u001b[1;32mc:\\Users\\marco\\_01_docs\\Coding\\PyCharm\\modal\\instructDB\\venv\\lib\\site-packages\\bs4\\element.py:841\u001b[0m, in \u001b[0;36mPageElement._find_all\u001b[1;34m(self, name, attrs, string, limit, generator, **kwargs)\u001b[0m\n\u001b[0;32m    839\u001b[0m     \u001b[39mbreak\u001b[39;00m\n\u001b[0;32m    840\u001b[0m \u001b[39mif\u001b[39;00m i:\n\u001b[1;32m--> 841\u001b[0m     found \u001b[39m=\u001b[39m strainer\u001b[39m.\u001b[39;49msearch(i)\n\u001b[0;32m    842\u001b[0m     \u001b[39mif\u001b[39;00m found:\n\u001b[0;32m    843\u001b[0m         results\u001b[39m.\u001b[39mappend(found)\n",
      "File \u001b[1;32mc:\\Users\\marco\\_01_docs\\Coding\\PyCharm\\modal\\instructDB\\venv\\lib\\site-packages\\bs4\\element.py:2320\u001b[0m, in \u001b[0;36mSoupStrainer.search\u001b[1;34m(self, markup)\u001b[0m\n\u001b[0;32m   2318\u001b[0m \u001b[39melif\u001b[39;00m \u001b[39misinstance\u001b[39m(markup, Tag):\n\u001b[0;32m   2319\u001b[0m     \u001b[39mif\u001b[39;00m \u001b[39mnot\u001b[39;00m \u001b[39mself\u001b[39m\u001b[39m.\u001b[39mstring \u001b[39mor\u001b[39;00m \u001b[39mself\u001b[39m\u001b[39m.\u001b[39mname \u001b[39mor\u001b[39;00m \u001b[39mself\u001b[39m\u001b[39m.\u001b[39mattrs:\n\u001b[1;32m-> 2320\u001b[0m         found \u001b[39m=\u001b[39m \u001b[39mself\u001b[39;49m\u001b[39m.\u001b[39;49msearch_tag(markup)\n\u001b[0;32m   2321\u001b[0m \u001b[39m# If it's text, make sure the text matches.\u001b[39;00m\n\u001b[0;32m   2322\u001b[0m \u001b[39melif\u001b[39;00m \u001b[39misinstance\u001b[39m(markup, NavigableString) \u001b[39mor\u001b[39;00m \\\n\u001b[0;32m   2323\u001b[0m          \u001b[39misinstance\u001b[39m(markup, \u001b[39mstr\u001b[39m):\n",
      "File \u001b[1;32mc:\\Users\\marco\\_01_docs\\Coding\\PyCharm\\modal\\instructDB\\venv\\lib\\site-packages\\bs4\\element.py:2283\u001b[0m, in \u001b[0;36mSoupStrainer.search_tag\u001b[1;34m(self, markup_name, markup_attrs)\u001b[0m\n\u001b[0;32m   2281\u001b[0m             markup_attr_map[k] \u001b[39m=\u001b[39m v\n\u001b[0;32m   2282\u001b[0m attr_value \u001b[39m=\u001b[39m markup_attr_map\u001b[39m.\u001b[39mget(attr)\n\u001b[1;32m-> 2283\u001b[0m \u001b[39mif\u001b[39;00m \u001b[39mnot\u001b[39;00m \u001b[39mself\u001b[39;49m\u001b[39m.\u001b[39;49m_matches(attr_value, match_against):\n\u001b[0;32m   2284\u001b[0m     match \u001b[39m=\u001b[39m \u001b[39mFalse\u001b[39;00m\n\u001b[0;32m   2285\u001b[0m     \u001b[39mbreak\u001b[39;00m\n",
      "File \u001b[1;32mc:\\Users\\marco\\_01_docs\\Coding\\PyCharm\\modal\\instructDB\\venv\\lib\\site-packages\\bs4\\element.py:2352\u001b[0m, in \u001b[0;36mSoupStrainer._matches\u001b[1;34m(self, markup, match_against, already_tried)\u001b[0m\n\u001b[0;32m   2349\u001b[0m     \u001b[39mreturn\u001b[39;00m markup \u001b[39mis\u001b[39;00m \u001b[39mnot\u001b[39;00m \u001b[39mNone\u001b[39;00m\n\u001b[0;32m   2351\u001b[0m \u001b[39mif\u001b[39;00m \u001b[39misinstance\u001b[39m(match_against, Callable):\n\u001b[1;32m-> 2352\u001b[0m     \u001b[39mreturn\u001b[39;00m match_against(markup)\n\u001b[0;32m   2354\u001b[0m \u001b[39m# Custom callables take the tag as an argument, but all\u001b[39;00m\n\u001b[0;32m   2355\u001b[0m \u001b[39m# other ways of matching match the tag name as a string.\u001b[39;00m\n\u001b[0;32m   2356\u001b[0m original_markup \u001b[39m=\u001b[39m markup\n",
      "File \u001b[1;32mc:\\Users\\marco\\_01_docs\\Coding\\PyCharm\\modal\\instructDB\\data\\paper.py:19\u001b[0m, in \u001b[0;36mPaper.parse_pdf.<locals>.<lambda>\u001b[1;34m(x)\u001b[0m\n\u001b[0;32m     16\u001b[0m soup \u001b[39m=\u001b[39m BeautifulSoup(html, \u001b[39m'\u001b[39m\u001b[39mhtml.parser\u001b[39m\u001b[39m'\u001b[39m)\n\u001b[0;32m     18\u001b[0m \u001b[39m# Get the title\u001b[39;00m\n\u001b[1;32m---> 19\u001b[0m title \u001b[39m=\u001b[39m soup\u001b[39m.\u001b[39mfind(\u001b[39m'\u001b[39m\u001b[39mh1\u001b[39m\u001b[39m'\u001b[39m, class_\u001b[39m=\u001b[39m\u001b[39mlambda\u001b[39;00m x: \u001b[39m'\u001b[39;49m\u001b[39mltx_title\u001b[39;49m\u001b[39m'\u001b[39;49m \u001b[39min\u001b[39;49;00m x \u001b[39mand\u001b[39;00m \u001b[39m'\u001b[39m\u001b[39mltx_title_document\u001b[39m\u001b[39m'\u001b[39m \u001b[39min\u001b[39;00m x)\n\u001b[0;32m     20\u001b[0m \u001b[39mif\u001b[39;00m title \u001b[39mis\u001b[39;00m \u001b[39mNone\u001b[39;00m:\n\u001b[0;32m     21\u001b[0m     \u001b[39mraise\u001b[39;00m \u001b[39mValueError\u001b[39;00m(\u001b[39m\"\u001b[39m\u001b[39mTitle element not found\u001b[39m\u001b[39m\"\u001b[39m)\n",
      "\u001b[1;31mTypeError\u001b[0m: argument of type 'NoneType' is not iterable"
     ]
    }
   ],
   "source": [
    "url = \"https://ar5iv.labs.arxiv.org/html/2305.04790\"\n",
    "from paper import Paper\n",
    "paper = Paper(url, browser)\n",
    "paper.parse_pdf()\n"
   ]
  }
 ],
 "metadata": {
  "kernelspec": {
   "display_name": "venv",
   "language": "python",
   "name": "python3"
  },
  "language_info": {
   "codemirror_mode": {
    "name": "ipython",
    "version": 3
   },
   "file_extension": ".py",
   "mimetype": "text/x-python",
   "name": "python",
   "nbconvert_exporter": "python",
   "pygments_lexer": "ipython3",
   "version": "3.10.11"
  },
  "orig_nbformat": 4
 },
 "nbformat": 4,
 "nbformat_minor": 2
}
