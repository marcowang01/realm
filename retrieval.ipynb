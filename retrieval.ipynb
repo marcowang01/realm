{
 "cells": [
  {
   "cell_type": "code",
   "execution_count": null,
   "metadata": {},
   "outputs": [],
   "source": [
    "# chunk and add all the files into chroma using api\n",
    "# add all the files into chroma using api\n",
    "# query the api for the passages\n",
    "# construct a prompt and then add"
   ]
  },
  {
   "cell_type": "code",
   "execution_count": null,
   "metadata": {},
   "outputs": [],
   "source": [
    "from langchain.llms import OpenAI\n",
    "from langchain.retrievers.self_query.base import SelfQueryRetriever\n",
    "from langchain.chains.query_constructor.base import AttributeInfo"
   ]
  },
  {
   "cell_type": "code",
   "execution_count": 2,
   "metadata": {},
   "outputs": [],
   "source": [
    "# laod json file\n",
    "import json\n",
    "import os\n",
    "\n",
    "data = json.load(open('./qasper/qasper-test-v0.3.json'))\n",
    "# loop through by key and value\n",
    "parsed_data = []\n",
    "for key, value in data.items():\n",
    "    full_text = \"\"\n",
    "    for section in value['full_text']:\n",
    "        full_text += f\"{section['section_name']}. \"\n",
    "        for paragraph in section['paragraphs']:\n",
    "            full_text += f\"{paragraph} \"\n",
    "    parsed_data.append({\n",
    "        \"full_text\": full_text,\n",
    "        \"metadata\": {\n",
    "            \"arxiv_id\": key,\n",
    "            \"title\": value['title'],\n",
    "        }\n",
    "    })\n",
    "\n",
    "# write to a new json file\n",
    "with open('./qasper/test-parsed.json', 'w') as outfile:\n",
    "    json.dump(parsed_data, outfile, indent=4)\n"
   ]
  }
 ],
 "metadata": {
  "kernelspec": {
   "display_name": "venv",
   "language": "python",
   "name": "python3"
  },
  "language_info": {
   "codemirror_mode": {
    "name": "ipython",
    "version": 3
   },
   "file_extension": ".py",
   "mimetype": "text/x-python",
   "name": "python",
   "nbconvert_exporter": "python",
   "pygments_lexer": "ipython3",
   "version": "3.10.11"
  },
  "orig_nbformat": 4
 },
 "nbformat": 4,
 "nbformat_minor": 2
}
