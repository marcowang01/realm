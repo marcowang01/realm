{
 "cells": [
  {
   "cell_type": "code",
   "execution_count": null,
   "metadata": {},
   "outputs": [],
   "source": [
    "# chunk and add all the files into chroma using api\n",
    "# add all the files into chroma using api\n",
    "# query the api for the passages\n",
    "# construct a prompt and then add"
   ]
  }
 ],
 "metadata": {
  "language_info": {
   "name": "python"
  },
  "orig_nbformat": 4
 },
 "nbformat": 4,
 "nbformat_minor": 2
}
